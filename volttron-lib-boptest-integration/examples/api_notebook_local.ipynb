{
 "cells": [
  {
   "cell_type": "code",
   "execution_count": 1,
   "id": "3f082bac",
   "metadata": {},
   "outputs": [],
   "source": [
    "# workflow\n",
    "# 1. check connection\n",
    "# 2. initialize\n",
    "# 2b (or) set up scenario\n",
    "# 3 advance (set inputs and steps)\n",
    "# get results\n",
    "# get kpis"
   ]
  },
  {
   "cell_type": "code",
   "execution_count": 2,
   "id": "5ff7e031",
   "metadata": {},
   "outputs": [],
   "source": [
    "import requests"
   ]
  },
  {
   "cell_type": "markdown",
   "id": "e80e8b9b",
   "metadata": {},
   "source": [
    "The BOPTEST framework enables the performance evaluation and benchmarking of advanced control algorithms for building HVAC control. Software is developed and is available on the BOPTEST GitHub respository at https://github.com/ibpsa/project1-boptest, while more information on the project in general can be found at the project home page at https://ibpsa.github.io/project1-boptest/.\n",
    "An introduction to the BOPTEST project, goals, and approach is given in the accompanying presentation Introduction to the Building Optimization Testing Framework (BOPTEST)."
   ]
  },
  {
   "cell_type": "markdown",
   "id": "01eda220",
   "metadata": {},
   "source": [
    "Now that we have an understanding of the BOPTEST project and framework approach, this exercise:\n",
    "Explains how to select a BOPTEST test case.\n",
    "Explores the BOPTEST API.\n",
    "Develops a simple example feedback controller to evaluate.\n",
    "As described in Part 1, BOPTEST test cases are developed as FMU’s and deployed within a containerized environment using the Docker software with:\n",
    "A detailed emulator building model.\n",
    "Yearly boundary condition data for weather, schedules, pricing, and emission factors. These data are representative of the building location.\n",
    "An API that allows for, among other things, initializing a simulation or testing scenario, advancing a simulation with a control input, receiving forecast data, receiving emulator data, and receiving computed KPIs. The full API is described here.\n",
    "The basic workflow to test a controller is:\n",
    "Select a test case from the menu of those available.\n",
    "Select one of the testing scenarios defined for the given test case. Testing scenarios are standardized for each emulator.\n",
    "Set parameters for the interaction with your test controller, such as the control step or forecast horizon, if required.\n",
    "Run the test case scenario in a co-simulation loop with your controller.\n",
    "Request the KPIs and evaluate your controller’s performance."
   ]
  },
  {
   "cell_type": "markdown",
   "id": "cedec6b3",
   "metadata": {},
   "source": [
    "# Selecting a Test Case\n",
    "We start by selecting and launching a test case from the [repository of currently available test cases](https://ibpsa.github.io/project1-boptest/testcases/index.html).  In this example, we are going to work with the test case called `bestest_hydronic_heat_pump`, which is a single-zone residential building with radiant floor heating and a heat pump. This is a high-fidelity, yet, relatively simple test case that allows us to focus on fundamental aspects of the framework.  You may want to note the other test cases available in the repository as well as the fact that there are more under development.  \n",
    "\n",
    "We can launch our chosen test case as follows.  First, import the Python `requests` library so that we can make HTTP requests to the BOPTEST API at the address indicated by the `url`.  Then, use the `POST /testcases/<test_case_name>/select` BOPTEST API endpoint to launch the test case and receive a corresponding `testid`.  While the `url` is the common gateway for everyone to access the BOPTEST web-service, the `testid` is a unique identifier for you to address the test case that you have selected and launched. \n"
   ]
  },
  {
   "cell_type": "code",
   "execution_count": 3,
   "id": "901d2161",
   "metadata": {},
   "outputs": [
    {
     "name": "stdout",
     "output_type": "stream",
     "text": [
      "{'name': 'bestest_hydronic_heat_pump'}\n"
     ]
    }
   ],
   "source": [
    "# use localy deployed  testcase (i.e., `TESTCASE=bestest_hydronic_heat_pump docker-compose up`)\n",
    "url = 'http://0.0.0.0:5000'\n",
    "name = requests.get('{0}/name'.format(url)).json()['payload']\n",
    "print(name)\n"
   ]
  },
  {
   "cell_type": "code",
   "execution_count": 4,
   "id": "3858757d",
   "metadata": {},
   "outputs": [],
   "source": [
    "# Q: can we configure the local server address:port? \n",
    "# (maybe within docker-compose.yml)"
   ]
  },
  {
   "cell_type": "code",
   "execution_count": 5,
   "id": "70c606ac",
   "metadata": {},
   "outputs": [],
   "source": [
    "# Import reference:\n",
    "# API Summary: https://ibpsa.github.io/project1-boptest/docs-userguide/api.html"
   ]
  },
  {
   "cell_type": "code",
   "execution_count": 6,
   "id": "f1f7a3ce",
   "metadata": {},
   "outputs": [],
   "source": [
    "# ## Exploring the API (Skip)"
   ]
  },
  {
   "cell_type": "code",
   "execution_count": 26,
   "id": "b64c15eb",
   "metadata": {},
   "outputs": [
    {
     "data": {
      "text/plain": [
       "dict_keys(['reaCO2RooAir_y', 'reaCOP_y', 'reaPFan_y', 'reaPHeaPum_y', 'reaPPumEmi_y', 'reaQFloHea_y', 'reaQHeaPumCon_y', 'reaQHeaPumEva_y', 'reaTRet_y', 'reaTSetCoo_y', 'reaTSetHea_y', 'reaTSup_y', 'reaTZon_y', 'weaSta_reaWeaCeiHei_y', 'weaSta_reaWeaCloTim_y', 'weaSta_reaWeaHDifHor_y', 'weaSta_reaWeaHDirNor_y', 'weaSta_reaWeaHGloHor_y', 'weaSta_reaWeaHHorIR_y', 'weaSta_reaWeaLat_y', 'weaSta_reaWeaLon_y', 'weaSta_reaWeaNOpa_y', 'weaSta_reaWeaNTot_y', 'weaSta_reaWeaPAtm_y', 'weaSta_reaWeaRelHum_y', 'weaSta_reaWeaSolAlt_y', 'weaSta_reaWeaSolDec_y', 'weaSta_reaWeaSolHouAng_y', 'weaSta_reaWeaSolTim_y', 'weaSta_reaWeaSolZen_y', 'weaSta_reaWeaTBlaSky_y', 'weaSta_reaWeaTDewPoi_y', 'weaSta_reaWeaTDryBul_y', 'weaSta_reaWeaTWetBul_y', 'weaSta_reaWeaWinDir_y', 'weaSta_reaWeaWinSpe_y'])"
      ]
     },
     "execution_count": 26,
     "metadata": {},
     "output_type": "execute_result"
    }
   ],
   "source": [
    "requests.get('{0}/measurements'.format(url), ).json()['payload'].keys()"
   ]
  },
  {
   "cell_type": "code",
   "execution_count": 27,
   "id": "beff9503",
   "metadata": {},
   "outputs": [
    {
     "data": {
      "text/plain": [
       "dict_keys(['oveFan_activate', 'oveFan_u', 'oveHeaPumY_activate', 'oveHeaPumY_u', 'ovePum_activate', 'ovePum_u', 'oveTSet_activate', 'oveTSet_u'])"
      ]
     },
     "execution_count": 27,
     "metadata": {},
     "output_type": "execute_result"
    }
   ],
   "source": [
    "requests.get('{0}/inputs'.format(url), ).json()['payload'].keys()"
   ]
  },
  {
   "cell_type": "markdown",
   "source": [
    "The naming convention is such that the extension `_y` indicates a measurement point, `_u` indicates the value of an input which can be overwritten by a test controller, and `_activate` indicates the enabling (with value 0 or 1) of a test controller to overwrite the corresponding input value.\n",
    "Hence, `<varname>_u` is enabled for overwriting by the test controller when `<varname>_activate=1`.\n",
    "`weaSta_` indicates a measurement for a weather point, so that historical weather data can be easily retrieved.\n",
    "\n",
    "Notice that the jsons returned from the `GET /inputs` and `GET /measurements` BOPTEST API endpoints also include a description and unit of each variable, as well as the minimum and maximum value for inputs variables:"
   ],
   "metadata": {
    "collapsed": false
   }
  },
  {
   "cell_type": "markdown",
   "id": "95c6ce7f",
   "metadata": {},
   "source": [
    "### Initializing a Simulation and Scenario\n",
    "\n",
    "A co-simulation between your test controller and the test case can be started in two ways:  \n",
    "\n",
    "1. By intializing the test case to a specific time with a specific warm-up period using the `PUT /initialize` BOPTEST API endpoint and specifying the `start_time` in seconds from the beginning of the year and the `warmup_period` in the number of seconds before `start_time`.  This type of initialization allows for a user to test their controller for arbitrary periods during the year.  Note that the warm-up period is a period of simulation before the desired starting time that can be used to set initial conditions of the simulation at the start time.  During warm-up, the baseline controller simulates the model to prepare it to a realistic operational state.\n",
    "\n",
    "2. Selecting a testing scenario using the `PUT /scenario` BOPTEST API endpoint, which allows a user to test their controller for a pre-defined period and with predefined conditions, as defined for each test case within their respective documentation.  An important distinction compared to the previous initialization choice is that selecting a test scenario will not allow a user to simulate the test case past the end point of the scenario time period, unless the test case is reinitialized again. \n",
    "\n",
    "Let's first use the `PUT /initialize` BOPTEST API endpoint with parameters `start_time` and `warmup_period` to initialize the test case for the February 1st with one week of warm-up period.  Notice that the returned json contains the current values of the measurement points, including `time`.  The simulation will then wait for another API request, such as the one to advance the simulation with a specific control input described in the next section."
   ]
  },
  {
   "cell_type": "code",
   "execution_count": 64,
   "id": "7576aa47",
   "metadata": {},
   "outputs": [
    {
     "name": "stdout",
     "output_type": "stream",
     "text": [
      "21.364446797690675\n",
      "31.0\n"
     ]
    },
    {
     "data": {
      "text/plain": [
       "{'message': 'Test simulation initialized successfully to 2678400.0s with warmup period of 604800.0s.',\n",
       " 'payload': {'oveFan_activate': 0.0,\n",
       "  'oveFan_u': 1.0,\n",
       "  'oveHeaPumY_activate': 0.0,\n",
       "  'oveHeaPumY_u': 0.6099623594165983,\n",
       "  'ovePum_activate': 0.0,\n",
       "  'ovePum_u': 1.0,\n",
       "  'oveTSet_activate': 0.0,\n",
       "  'oveTSet_u': 294.34999999999997,\n",
       "  'reaCO2RooAir_y': 754.1572426355685,\n",
       "  'reaCOP_y': 3.053841427921293,\n",
       "  'reaPFan_y': 510.20408163265313,\n",
       "  'reaPHeaPum_y': 2345.671081543429,\n",
       "  'reaPPumEmi_y': 20.498644281163177,\n",
       "  'reaQFloHea_y': 7252.54667762443,\n",
       "  'reaQHeaPumCon_y': 7163.307525094268,\n",
       "  'reaQHeaPumEva_y': -4817.636443527269,\n",
       "  'reaTRet_y': 302.5452844477753,\n",
       "  'reaTSetCoo_y': 297.15,\n",
       "  'reaTSetHea_y': 294.15,\n",
       "  'reaTSup_y': 305.980673163079,\n",
       "  'reaTZon_y': 294.51444679769065,\n",
       "  'time': 2678400.0,\n",
       "  'weaSta_reaWeaCeiHei_y': 6000.0,\n",
       "  'weaSta_reaWeaCloTim_y': 2678400.0,\n",
       "  'weaSta_reaWeaHDifHor_y': 0.0,\n",
       "  'weaSta_reaWeaHDirNor_y': 0.0,\n",
       "  'weaSta_reaWeaHGloHor_y': 0.0,\n",
       "  'weaSta_reaWeaHHorIR_y': 265.0,\n",
       "  'weaSta_reaWeaLat_y': 0.8883725892651138,\n",
       "  'weaSta_reaWeaLon_y': 0.07906341511534314,\n",
       "  'weaSta_reaWeaNOpa_y': 0.4,\n",
       "  'weaSta_reaWeaNTot_y': 1.0,\n",
       "  'weaSta_reaWeaPAtm_y': 101325.0,\n",
       "  'weaSta_reaWeaRelHum_y': 0.84,\n",
       "  'weaSta_reaWeaSolAlt_y': -0.9589784286365046,\n",
       "  'weaSta_reaWeaSolDec_y': -0.30784437617150145,\n",
       "  'weaSta_reaWeaSolHouAng_y': 191.39477544721595,\n",
       "  'weaSta_reaWeaSolTim_y': 2675067.0849551014,\n",
       "  'weaSta_reaWeaSolZen_y': 2.529774755431401,\n",
       "  'weaSta_reaWeaTBlaSky_y': 261.55491601267204,\n",
       "  'weaSta_reaWeaTDewPoi_y': 272.25,\n",
       "  'weaSta_reaWeaTDryBul_y': 274.45,\n",
       "  'weaSta_reaWeaTWetBul_y': 273.49157052643756,\n",
       "  'weaSta_reaWeaWinDir_y': 1.0471975511965976,\n",
       "  'weaSta_reaWeaWinSpe_y': 5.1},\n",
       " 'status': 200}"
      ]
     },
     "execution_count": 64,
     "metadata": {},
     "output_type": "execute_result"
    }
   ],
   "source": [
    "y = requests.put('{0}/initialize'.format(url), \n",
    "                 data={'start_time':   31*24*3600,\n",
    "                       'warmup_period': 7*24*3600}).json()\n",
    "print(y['payload']['reaTZon_y']-273.15)\n",
    "print(y['payload']['time']/24/3600)\n",
    "y"
   ]
  },
  {
   "cell_type": "code",
   "execution_count": 20,
   "id": "dcc25117",
   "metadata": {},
   "outputs": [
    {
     "data": {
      "text/plain": [
       "31.0"
      ]
     },
     "execution_count": 20,
     "metadata": {},
     "output_type": "execute_result"
    }
   ],
   "source": [
    "2678400/3600/24"
   ]
  },
  {
   "cell_type": "markdown",
   "id": "b86e778f",
   "metadata": {},
   "source": [
    "PUT /initialize\n",
    "Description: Initialize simulation to a start time using a specified warmup period. Also resets point data history and KPI calculations.\n",
    "\n",
    "Arguments:\n",
    "\n",
    "start_time      // required, float, start time in seconds\n",
    "warmup_period   // required, float, warmup period length in seconds\n",
    "Returns:\n",
    "\n",
    "{\n",
    "    <point_name>:   // str, name of point\n",
    "        <value>,    // float, point values at start time\n",
    "    ...\n",
    "}"
   ]
  },
  {
   "cell_type": "markdown",
   "id": "259264ca",
   "metadata": {},
   "source": [
    "### (Alternative) Setting up a Scenario\n",
    "\n",
    "Now, let’s see how we can select a specific testing scenario. For our selected test case bestest_hydronic_heat_pump, testing scenario time periods are available that each last for two weeks, with a one week warm-up period. These periods represent either peak heating or typical heating. Note for test cases that also utilize cooling systems, scanerio time periods for peak cooling, typical cooling, and mixed heating and cooling are also available. In addition to the time period, a testing scenario is also defined by an electricity price profile. For all available test cases, the available electricity price profiles represent constant, dynamic, or highly dynamic conditions. A dynamic price profile follows something like a day-night or time-of-use tariff, while a highly dynamic price profile follows something like a wholesale electricity market for the building’s location. Note that for our selected test case bestest_hydronic_heat_pump, the price profiles include a constant offset for transportation fees and taxes such that realistic pricing is used. See the detailed documentation for a summary of scenario options and more details of the scenario assumptions.\n",
    "\n",
    "Now, use the PUT /scenario BOPTEST API endpoint with parameters time_period and electricity_price to set a specific scenario. The following shall be used to set the peak_heat_day time period with a dynamic electricity price profile:"
   ]
  },
  {
   "cell_type": "code",
   "execution_count": 65,
   "id": "e492c3d6",
   "metadata": {},
   "outputs": [
    {
     "data": {
      "text/plain": [
       "{'message': 'Test case scenario was set successfully.',\n",
       " 'payload': {'electricity_price': 'dynamic',\n",
       "  'time_period': {'oveFan_activate': 0.0,\n",
       "   'oveFan_u': 1.0,\n",
       "   'oveHeaPumY_activate': 0.0,\n",
       "   'oveHeaPumY_u': 0.6283099681151593,\n",
       "   'ovePum_activate': 0.0,\n",
       "   'ovePum_u': 1.0,\n",
       "   'oveTSet_activate': 0.0,\n",
       "   'oveTSet_u': 294.34999999999997,\n",
       "   'reaCO2RooAir_y': 754.1571682156247,\n",
       "   'reaCOP_y': 3.096818446100777,\n",
       "   'reaPFan_y': 510.20408163265313,\n",
       "   'reaPHeaPum_y': 2385.2775401827284,\n",
       "   'reaPPumEmi_y': 20.498644281163177,\n",
       "   'reaQFloHea_y': 7445.464652900132,\n",
       "   'reaQHeaPumCon_y': 7386.771485507761,\n",
       "   'reaQHeaPumEva_y': -5001.493945256057,\n",
       "   'reaTRet_y': 302.40029127477544,\n",
       "   'reaTSetCoo_y': 297.15,\n",
       "   'reaTSetHea_y': 294.15,\n",
       "   'reaTSup_y': 305.9403984777304,\n",
       "   'reaTZon_y': 294.4643919860063,\n",
       "   'time': 1382400.0,\n",
       "   'weaSta_reaWeaCeiHei_y': 22000.0,\n",
       "   'weaSta_reaWeaCloTim_y': 1382400.0,\n",
       "   'weaSta_reaWeaHDifHor_y': 0.0,\n",
       "   'weaSta_reaWeaHDirNor_y': 0.0,\n",
       "   'weaSta_reaWeaHGloHor_y': 0.0,\n",
       "   'weaSta_reaWeaHHorIR_y': 262.0,\n",
       "   'weaSta_reaWeaLat_y': 0.8883725892651138,\n",
       "   'weaSta_reaWeaLon_y': 0.07906341511534314,\n",
       "   'weaSta_reaWeaNOpa_y': 0.2,\n",
       "   'weaSta_reaWeaNTot_y': 0.2,\n",
       "   'weaSta_reaWeaPAtm_y': 101325.0,\n",
       "   'weaSta_reaWeaRelHum_y': 0.9,\n",
       "   'weaSta_reaWeaSolAlt_y': -1.0200406146124426,\n",
       "   'weaSta_reaWeaSolDec_y': -0.36698636938254725,\n",
       "   'weaSta_reaWeaSolHouAng_y': 97.1631416955987,\n",
       "   'weaSta_reaWeaSolTim_y': 1379289.1064134557,\n",
       "   'weaSta_reaWeaSolZen_y': 2.590836941407339,\n",
       "   'weaSta_reaWeaTBlaSky_y': 260.82015225846817,\n",
       "   'weaSta_reaWeaTDewPoi_y': 273.25,\n",
       "   'weaSta_reaWeaTDryBul_y': 274.65,\n",
       "   'weaSta_reaWeaTWetBul_y': 274.04854504120533,\n",
       "   'weaSta_reaWeaWinDir_y': 4.537856055185257,\n",
       "   'weaSta_reaWeaWinSpe_y': 3.6}},\n",
       " 'status': 200}"
      ]
     },
     "execution_count": 65,
     "metadata": {},
     "output_type": "execute_result"
    }
   ],
   "source": [
    "scenario_return = requests.put('{0}/scenario'.format(url), \n",
    "                  data={'time_period':'peak_heat_day',\n",
    "                        'electricity_price':'dynamic'}).json()\n",
    "scenario_return"
   ]
  },
  {
   "cell_type": "markdown",
   "id": "f1b7df87",
   "metadata": {},
   "source": [
    "To check the current test case scenario, use the `GET /scenario` BOPTEST API endpoint:"
   ]
  },
  {
   "cell_type": "code",
   "execution_count": 9,
   "id": "d8fdbf6c",
   "metadata": {},
   "outputs": [
    {
     "data": {
      "text/plain": [
       "{'electricity_price': 'dynamic', 'time_period': 'peak_heat_day'}"
      ]
     },
     "execution_count": 9,
     "metadata": {},
     "output_type": "execute_result"
    }
   ],
   "source": [
    "requests.get('{0}/scenario'.format(url)).json()['payload']"
   ]
  },
  {
   "cell_type": "markdown",
   "id": "a1890ada",
   "metadata": {},
   "source": [
    "PUT /scenario\n",
    "Description: Set current test scenario. Setting time_period results in similar behavior to PUT /initialize, except uses a pre-determined start time and warmup period as defined within BOPTEST according to the selected scenario.\n",
    "\n",
    "Arguments:\n",
    "\n",
    "electricity_price   // optional, str, electricity price scenario\n",
    "time_period         // optional, str, time period scenario\n",
    "Returns:\n",
    "\n",
    "{\n",
    "    \"electricity_price\":<value>,    // str, set electricity price scenario\n",
    "    {<point_name>:                  // str, name of point\n",
    "        <value>,                    // float, point value at start time\n",
    "    ...\n",
    "    }\n",
    "}"
   ]
  },
  {
   "cell_type": "markdown",
   "id": "817ff4d9",
   "metadata": {},
   "source": [
    "From `testcase.py`, available `electricity_price` options are `constant`, `dynamic`, `highly_dynamic`.\n",
    "From `days.json`, available `time_period` options are `peak_heat_day`, `typical_heat_day`, `typical_cool_day`, `mix_day`."
   ]
  },
  {
   "cell_type": "markdown",
   "id": "300498e6",
   "metadata": {},
   "source": [
    "Q: As stated in https://ibpsa.github.io/project1-boptest/docs-userguide/api.html#put-scenario, \"Setting time_period results in similar behavior to PUT /initialize, except uses a pre-determined start time and warmup period as defined within BOPTEST according to the selected scenario.\" \n",
    "Q1: what are the available \"time_period\" options?\n",
    "Q2: what are the associated \"start_time\", \"warmup_period\" defined by \"time_period\" when using scenario endpoint? (Or it becomes irrelevant?)"
   ]
  },
  {
   "cell_type": "markdown",
   "id": "9d1f5587",
   "metadata": {},
   "source": [
    "### Advancing the Simulation\n",
    "\n",
    "With the test case simulation intialized, we are ready to advance the simulation.  First, we must consider how far to advance the simulation at one time, called the control step.  Use the `GET /step` and `PUT /step` BOPTEST API endpoints to get and set, in this case with the `step` parameter, the control step.  Note that each test case has a control step specified by default.  Our selected test case has a default control step of 3600 seconds, which we get and then set as an example."
   ]
  },
  {
   "cell_type": "code",
   "execution_count": 10,
   "id": "e2b61e59",
   "metadata": {},
   "outputs": [
    {
     "name": "stdout",
     "output_type": "stream",
     "text": [
      "DEFAULT STEP PERIOD [seconds] --------------------------------\n",
      "3600.0\n"
     ]
    },
    {
     "data": {
      "text/plain": [
       "<Response [200]>"
      ]
     },
     "execution_count": 10,
     "metadata": {},
     "output_type": "execute_result"
    }
   ],
   "source": [
    "# Get default control step\n",
    "step = requests.get('{0}/step'.format(url)).json()['payload']\n",
    "print('DEFAULT STEP PERIOD [seconds] --------------------------------')\n",
    "print(step)\n",
    "# Set the control step\n",
    "requests.put('{0}/step'.format(url), data={'step':step})"
   ]
  },
  {
   "cell_type": "markdown",
   "id": "6e27daea",
   "metadata": {},
   "source": [
    "Now, use the `POST /advance` BOPTEST API endpoint to advance the test case simulation one control step with the embedded baseline controller.  Here, we are not overwriting any control inputs. However, the simulation has advanced one hour with the baseline controller from the initial time of the `peak_heat_day` scenario time period we specified earlier.  Note that the returned json contains the current time measurements of the simulation, that is, after the advance has completed."
   ]
  },
  {
   "cell_type": "code",
   "execution_count": 40,
   "id": "e5729529",
   "metadata": {},
   "outputs": [
    {
     "name": "stdout",
     "output_type": "stream",
     "text": [
      "21.210788436919643\n",
      "16.208333333333332\n"
     ]
    },
    {
     "data": {
      "text/plain": [
       "{'oveFan_activate': 0.0,\n",
       " 'oveFan_u': 1.0,\n",
       " 'oveHeaPumY_activate': 0.0,\n",
       " 'oveHeaPumY_u': 0.4939031805870157,\n",
       " 'ovePum_activate': 0.0,\n",
       " 'ovePum_u': 1.0,\n",
       " 'oveTSet_activate': 0.0,\n",
       " 'oveTSet_u': 294.34999999999997,\n",
       " 'reaCO2RooAir_y': 804.9469901684919,\n",
       " 'reaCOP_y': 2.9156233578672124,\n",
       " 'reaPFan_y': 510.20408163265313,\n",
       " 'reaPHeaPum_y': 2073.1326545184447,\n",
       " 'reaPPumEmi_y': 20.498644281163177,\n",
       " 'reaQFloHea_y': 6071.2150327852405,\n",
       " 'reaQHeaPumCon_y': 6044.473991471235,\n",
       " 'reaQHeaPumEva_y': -3971.3413368817223,\n",
       " 'reaTRet_y': 301.14566504501727,\n",
       " 'reaTSetCoo_y': 297.15,\n",
       " 'reaTSetHea_y': 294.15,\n",
       " 'reaTSup_y': 304.0342761307194,\n",
       " 'reaTZon_y': 294.3607884369196,\n",
       " 'time': 1400400.0,\n",
       " 'weaSta_reaWeaCeiHei_y': 22000.0,\n",
       " 'weaSta_reaWeaCloTim_y': 1400400.0,\n",
       " 'weaSta_reaWeaHDifHor_y': 0.0,\n",
       " 'weaSta_reaWeaHDirNor_y': 0.0,\n",
       " 'weaSta_reaWeaHGloHor_y': 0.0,\n",
       " 'weaSta_reaWeaHHorIR_y': 250.0,\n",
       " 'weaSta_reaWeaLat_y': 0.8883725892651138,\n",
       " 'weaSta_reaWeaLon_y': 0.07906341511534314,\n",
       " 'weaSta_reaWeaNOpa_y': 0.0,\n",
       " 'weaSta_reaWeaNTot_y': 0.1,\n",
       " 'weaSta_reaWeaPAtm_y': 101325.0,\n",
       " 'weaSta_reaWeaRelHum_y': 0.88,\n",
       " 'weaSta_reaWeaSolAlt_y': -0.5874244796798394,\n",
       " 'weaSta_reaWeaSolDec_y': -0.3663231606617739,\n",
       " 'weaSta_reaWeaSolHouAng_y': 98.47183881109792,\n",
       " 'weaSta_reaWeaSolTim_y': 1397284.983544428,\n",
       " 'weaSta_reaWeaSolZen_y': 2.158220806474736,\n",
       " 'weaSta_reaWeaTBlaSky_y': 257.70281335786484,\n",
       " 'weaSta_reaWeaTDewPoi_y': 272.15,\n",
       " 'weaSta_reaWeaTDryBul_y': 273.84999999999997,\n",
       " 'weaSta_reaWeaTWetBul_y': 273.1529270299357,\n",
       " 'weaSta_reaWeaWinDir_y': 4.363323129985824,\n",
       " 'weaSta_reaWeaWinSpe_y': 3.6}"
      ]
     },
     "execution_count": 40,
     "metadata": {},
     "output_type": "execute_result"
    }
   ],
   "source": [
    "# not overwriting any control inputs\n",
    "y = requests.post('{0}/advance'.format(url)).json()['payload']\n",
    "print(y['reaTZon_y']-273.15)\n",
    "print(y['time']/24/3600)\n",
    "y"
   ]
  },
  {
   "cell_type": "code",
   "execution_count": 12,
   "id": "4aef100c",
   "metadata": {},
   "outputs": [],
   "source": [
    "# later, check the status of the following command before and after advance\n",
    "# requests.get('{0}/kpi'.format(url)).json()['payload']"
   ]
  },
  {
   "cell_type": "markdown",
   "id": "0cf0a807",
   "metadata": {},
   "source": [
    "Finally, use the POST /advance BOPTEST API endpoint to advance the simulation further, but this time with the heat pump modulation signal overwritten so that it runs the compressor at half of its capacity for one hour (the default control step). It is needed to both activate this signal and define the desired value when advancing the simulation. The control signals to be overwritten are defined with API request parameters that are dynamic according to the control inputs available for each test case. Here, specify the values of the parameters in a Python dictionary u and pass it to the API request. Remember that the evaporator fan and the circulation pump will be automatically switched on because of controller C2."
   ]
  },
  {
   "cell_type": "code",
   "execution_count": 13,
   "id": "d615dda9",
   "metadata": {},
   "outputs": [
    {
     "name": "stdout",
     "output_type": "stream",
     "text": [
      "21.415455088881117\n",
      "16.083333333333332\n"
     ]
    },
    {
     "data": {
      "text/plain": [
       "{'oveFan_activate': 0.0,\n",
       " 'oveFan_u': 1.0,\n",
       " 'oveHeaPumY_activate': 1.0,\n",
       " 'oveHeaPumY_u': 0.5,\n",
       " 'ovePum_activate': 0.0,\n",
       " 'ovePum_u': 1.0,\n",
       " 'oveTSet_activate': 0.0,\n",
       " 'oveTSet_u': 294.34999999999997,\n",
       " 'reaCO2RooAir_y': 789.1364973301881,\n",
       " 'reaCOP_y': 2.959832668805957,\n",
       " 'reaPFan_y': 510.20408163265313,\n",
       " 'reaPHeaPum_y': 2111.125360080986,\n",
       " 'reaPPumEmi_y': 20.498644281163177,\n",
       " 'reaQFloHea_y': 6318.236687266825,\n",
       " 'reaQHeaPumCon_y': 6248.577808712442,\n",
       " 'reaQHeaPumEva_y': -4137.452448691605,\n",
       " 'reaTRet_y': 301.8583531735158,\n",
       " 'reaTSetCoo_y': 297.15,\n",
       " 'reaTSetHea_y': 294.15,\n",
       " 'reaTSup_y': 304.84884283044255,\n",
       " 'reaTZon_y': 294.5654550888811,\n",
       " 'time': 1389600.0,\n",
       " 'weaSta_reaWeaCeiHei_y': 1500.0,\n",
       " 'weaSta_reaWeaCloTim_y': 1389600.0,\n",
       " 'weaSta_reaWeaHDifHor_y': 0.0,\n",
       " 'weaSta_reaWeaHDirNor_y': 0.0,\n",
       " 'weaSta_reaWeaHGloHor_y': 0.0,\n",
       " 'weaSta_reaWeaHHorIR_y': 272.0,\n",
       " 'weaSta_reaWeaLat_y': 0.8883725892651138,\n",
       " 'weaSta_reaWeaLon_y': 0.07906341511534314,\n",
       " 'weaSta_reaWeaNOpa_y': 0.6000000000000001,\n",
       " 'weaSta_reaWeaNTot_y': 0.6000000000000001,\n",
       " 'weaSta_reaWeaPAtm_y': 101325.0,\n",
       " 'weaSta_reaWeaRelHum_y': 0.89,\n",
       " 'weaSta_reaWeaSolAlt_y': -0.9994600347759732,\n",
       " 'weaSta_reaWeaSolDec_y': -0.36672165755044517,\n",
       " 'weaSta_reaWeaSolHouAng_y': 97.68662031270526,\n",
       " 'weaSta_reaWeaSolTim_y': 1386487.4541155878,\n",
       " 'weaSta_reaWeaSolZen_y': 2.57025636157087,\n",
       " 'weaSta_reaWeaTBlaSky_y': 263.1259141058702,\n",
       " 'weaSta_reaWeaTDewPoi_y': 273.15,\n",
       " 'weaSta_reaWeaTDryBul_y': 274.75,\n",
       " 'weaSta_reaWeaTWetBul_y': 274.08486424837946,\n",
       " 'weaSta_reaWeaWinDir_y': 4.363323129985824,\n",
       " 'weaSta_reaWeaWinSpe_y': 4.1}"
      ]
     },
     "execution_count": 13,
     "metadata": {},
     "output_type": "execute_result"
    }
   ],
   "source": [
    "u = {'oveHeaPumY_u':0.5,\n",
    "     'oveHeaPumY_activate': 1}\n",
    "y = requests.post('{0}/advance'.format(url), data=u).json()['payload']\n",
    "print(y['reaTZon_y']-273.15)\n",
    "print(y['time']/24/3600)\n",
    "y"
   ]
  },
  {
   "cell_type": "markdown",
   "id": "01eeb123",
   "metadata": {},
   "source": [
    "### Getting Simulation Result Data\n",
    "\n",
    "Now let's take a look at the simulation results so far.  This can be obtained with the `PUT /results` BOPTEST API endpoint and `point_names`, `start_time`, and `final_time` parameters, which are used to define the point and time period of data to be retrieved, much like in any building management system.  The start and final times need to be defined in seconds from the start of the year.  In the code below, we use negative and positive infinity to collect all available data."
   ]
  },
  {
   "cell_type": "code",
   "execution_count": 14,
   "id": "bdb35ad9",
   "metadata": {},
   "outputs": [
    {
     "data": {
      "text/plain": [
       "20401"
      ]
     },
     "execution_count": 14,
     "metadata": {},
     "output_type": "execute_result"
    }
   ],
   "source": [
    "import numpy as np\n",
    "# import matplotlib.pyplot as plt\n",
    "args = {'point_names':['reaTZon_y'],'start_time':-np.inf, 'final_time':np.inf}\n",
    "res = requests.put('{0}/results'.format(url), data=args).json()['payload']\n",
    "len(res[\"time\"])"
   ]
  },
  {
   "cell_type": "code",
   "execution_count": 62,
   "id": "1c99d90f",
   "metadata": {},
   "outputs": [
    {
     "name": "stdout",
     "output_type": "stream",
     "text": [
      "21.356729699186644\n",
      "17.041666666666668\n"
     ]
    }
   ],
   "source": [
    "# not overwriting any control inputs\n",
    "y = requests.post('{0}/advance'.format(url)).json()['payload']\n",
    "print(y['reaTZon_y']-273.15)\n",
    "print(y['time']/24/3600)\n",
    "# y"
   ]
  },
  {
   "cell_type": "code",
   "execution_count": 63,
   "id": "7366e039",
   "metadata": {},
   "outputs": [
    {
     "data": {
      "text/plain": [
       "Text(0, 0.5, 'Zone operative temperature (degC)')"
      ]
     },
     "execution_count": 63,
     "metadata": {},
     "output_type": "execute_result"
    },
    {
     "data": {
      "image/png": "[encoded data removed]",
      "text/plain": [
       "<Figure size 640x480 with 1 Axes>"
      ]
     },
     "metadata": {},
     "output_type": "display_data"
    }
   ],
   "source": [
    "import numpy as np\n",
    "import matplotlib.pyplot as plt\n",
    "\n",
    "args = {'point_names':['reaTZon_y'],'start_time':-np.inf, 'final_time':np.inf}\n",
    "res = requests.put('{0}/results'.format(url), data=args).json()['payload']\n",
    "plt.plot(np.asarray(res['time'])/24/3600, np.asarray(res['reaTZon_y'])-273.15)\n",
    "plt.xlabel('Time from beginning of the year (days)')\n",
    "plt.ylabel('Zone operative temperature (degC)')\n",
    "# plt.axvline(start_time_days, linestyle='--', color='r')"
   ]
  },
  {
   "cell_type": "code",
   "execution_count": 16,
   "id": "2117f0cd",
   "metadata": {},
   "outputs": [],
   "source": [
    "# Q: can we use native RestAPI float point instead of `-np.inf`\n",
    "# ANS: Though unintuitive, it seems like we need to use np.inf"
   ]
  },
  {
   "cell_type": "markdown",
   "id": "15eab46d",
   "metadata": {},
   "source": [
    "Note that most of the simulation results correspond to the one week warm-up period defined by the scenario initilization done before, and only a small part to the couple of control steps advanced during the scenario test period.  The start time of the test period, saved in the variable `start_time_days` earlier, is shown in red.\n",
    "\n",
    "The results are provided during the warmup period so that for example, advanced controllers like MPC could use them for initial state estimation."
   ]
  },
  {
   "cell_type": "markdown",
   "id": "40b15c97",
   "metadata": {},
   "source": [
    "### Getting Core KPI Values\n",
    "\n",
    "  \n",
    "\n",
    "We're now ready to obtain the final KPIs, calculated based on the emulator performance during a simulation (starting from the initialization). The core KPIs, those that are calculated for every test case, are defined in BOPTEST to evaluate different aspects of a controller. These are:\n",
    "\n",
    "  \n",
    "\n",
    "* **Thermal discomfort**: reported with units of [$K \\, h/zone$], defines the cumulative deviation of zone temperatures from upper and lower comfort limits that are predefined within the test case FMU for each zone, averaged over all zones. Air temperature is used for air-based systems and operative temperature is used for radiant systems.\n",
    "\n",
    "* **Indoor Air Quality (IAQ) Discomfort**: reported with units of [$ppm \\, h/zone$], defines the extent that the CO$_2$ concentration levels in zones exceed bounds of the acceptable concentration level, which are predefined within the test case FMU for each zone, averaged over all zones.\n",
    "\n",
    "* **Energy Use**: reported with units of [$kWh/m^2$], defines the HVAC energy usage.\n",
    "\n",
    "* **Peak electrical demand**:reported with units of [$kW/m^2$], defines the HVAC peak electrical demand.\n",
    "\n",
    "* **Peak gas demand**:reported with units of [$kW/m^2$], defines the HVAC peak gas demand.\n",
    "\n",
    "* **Peak district heating demand**:reported with units of [$kW/m^2$], defines the HVAC peak district heating demand.\n",
    "\n",
    "* **Cost**: reported with units of [USD/$m^2$] or [EUR/$m^2$], defines the operational cost associated with the HVAC energy usage.\n",
    "\n",
    "* **Emissions**: reported with units of [$kg \\, CO_2/m^2$], defines the CO$_2$ emissions from the HVAC energy usage.\n",
    "\n",
    "\n",
    "  \n",
    "  \n",
    "\n",
    "* **Computational time ratio**: defines the average ratio between the controller computation time and the test simulation control step. The controller computation time is measured as the time between two emulator advances.\n",
    "\n",
    "  \n",
    "\n",
    "The core KPIs are normally calculated at the end of the simulation to assess the controller performance, although they can be computed at any time. The warmup period is not taken into account for the calculation of the KPIs.\n",
    "\n",
    "  \n",
    "\n",
    "Get the core KPI values using the `GET /kpi` BOPTEST API endpoint."
   ]
  },
  {
   "cell_type": "code",
   "execution_count": 41,
   "id": "87d9d80f",
   "metadata": {},
   "outputs": [
    {
     "data": {
      "text/plain": [
       "{'cost_tot': 0.016234313085913422,\n",
       " 'emis_tot': 0.01137696301027084,\n",
       " 'ener_tot': 0.06812552700760979,\n",
       " 'idis_tot': 0.0,\n",
       " 'pdih_tot': None,\n",
       " 'pele_tot': 0.015044889571272379,\n",
       " 'pgas_tot': None,\n",
       " 'tdis_tot': 0.0,\n",
       " 'time_rat': 0.06118474694093068}"
      ]
     },
     "execution_count": 41,
     "metadata": {},
     "output_type": "execute_result"
    }
   ],
   "source": [
    "requests.get('{0}/kpi'.format(url)).json()['payload']"
   ]
  },
  {
   "cell_type": "markdown",
   "id": "cfd3b5a6",
   "metadata": {},
   "source": [
    "Q: what's the significance of warm-up period?\n",
    "ANS: This type of initialization allows for a user to test their controller for arbitrary periods during the year. Note that the warm-up period is a period of simulation before the desired starting time that can be used to set initial conditions of the simulation at the start time. During warm-up, the baseline controller simulates the model to prepare it to a realistic operational state."
   ]
  },
  {
   "cell_type": "markdown",
   "id": "5977b11b",
   "metadata": {},
   "source": [
    "Q: What affect the caculation of KPIs?\n",
    "ANS: The core KPIs are normally calculated at the end of the simulation to assess the controller performance, although they can be computed at any time. The warmup period is not taken into account for the calculation of the KPIs. Advance is another operation will affect KPIs.\n",
    "(Try the following experiments)"
   ]
  },
  {
   "cell_type": "code",
   "execution_count": 66,
   "id": "385fe1d5",
   "metadata": {},
   "outputs": [
    {
     "name": "stdout",
     "output_type": "stream",
     "text": [
      "21.907151167541087\n",
      "75.0\n"
     ]
    },
    {
     "data": {
      "text/plain": [
       "{'cost_tot': 0.0,\n",
       " 'emis_tot': 0.0,\n",
       " 'ener_tot': 0.0,\n",
       " 'idis_tot': 0.0,\n",
       " 'pdih_tot': None,\n",
       " 'pele_tot': 0.0,\n",
       " 'pgas_tot': None,\n",
       " 'tdis_tot': 0.0,\n",
       " 'time_rat': nan}"
      ]
     },
     "execution_count": 66,
     "metadata": {},
     "output_type": "execute_result"
    }
   ],
   "source": [
    "y = requests.put('{0}/initialize'.format(url), \n",
    "                 data={'start_time':   75*24*3600,\n",
    "                       'warmup_period': 7*24*3600}).json()\n",
    "print(y['payload']['reaTZon_y']-273.15)\n",
    "print(y['payload']['time']/24/3600)\n",
    "\n",
    "requests.get('{0}/kpi'.format(url)).json()['payload']"
   ]
  },
  {
   "cell_type": "code",
   "execution_count": 67,
   "id": "649e192f",
   "metadata": {},
   "outputs": [
    {
     "name": "stdout",
     "output_type": "stream",
     "text": [
      "21.364446797690675\n",
      "31.0\n"
     ]
    },
    {
     "data": {
      "text/plain": [
       "{'cost_tot': 0.0,\n",
       " 'emis_tot': 0.0,\n",
       " 'ener_tot': 0.0,\n",
       " 'idis_tot': 0.0,\n",
       " 'pdih_tot': None,\n",
       " 'pele_tot': 0.014981113580506486,\n",
       " 'pgas_tot': None,\n",
       " 'tdis_tot': 0.0,\n",
       " 'time_rat': nan}"
      ]
     },
     "execution_count": 67,
     "metadata": {},
     "output_type": "execute_result"
    }
   ],
   "source": [
    "y = requests.put('{0}/initialize'.format(url), \n",
    "                 data={'start_time':   31*24*3600,\n",
    "                       'warmup_period': 7*24*3600}).json()\n",
    "print(y['payload']['reaTZon_y']-273.15)\n",
    "print(y['payload']['time']/24/3600)\n",
    "\n",
    "requests.get('{0}/kpi'.format(url)).json()['payload']"
   ]
  },
  {
   "cell_type": "code",
   "execution_count": 68,
   "id": "0ac64c22",
   "metadata": {},
   "outputs": [
    {
     "name": "stdout",
     "output_type": "stream",
     "text": [
      "21.364512020821053\n",
      "31.0\n"
     ]
    },
    {
     "data": {
      "text/plain": [
       "{'cost_tot': 0.0,\n",
       " 'emis_tot': 0.0,\n",
       " 'ener_tot': 0.0,\n",
       " 'idis_tot': 0.0,\n",
       " 'pdih_tot': None,\n",
       " 'pele_tot': 0.01497515993626905,\n",
       " 'pgas_tot': None,\n",
       " 'tdis_tot': 0.0,\n",
       " 'time_rat': nan}"
      ]
     },
     "execution_count": 68,
     "metadata": {},
     "output_type": "execute_result"
    }
   ],
   "source": [
    "y = requests.put('{0}/initialize'.format(url), \n",
    "                 data={'start_time':   31*24*3600,\n",
    "                       'warmup_period': 20*24*3600}).json()\n",
    "print(y['payload']['reaTZon_y']-273.15)\n",
    "print(y['payload']['time']/24/3600)\n",
    "\n",
    "requests.get('{0}/kpi'.format(url)).json()['payload']"
   ]
  },
  {
   "cell_type": "markdown",
   "id": "d218e288",
   "metadata": {},
   "source": [
    "Q: Can user configure control input during warm-up period?\n",
    "ANS: No. Warm-up period only allows baseline control input. A user should use advance endpoint to input custom control."
   ]
  },
  {
   "cell_type": "markdown",
   "id": "e617ebad",
   "metadata": {},
   "source": [
    "Q: Is there a one-to-one mapping between the warm-up period and start-time in scenario and initialize? e.g., what's the warmup_period, and start_time for scenario: time_period':'peak_heat_day', 'electricity_price':'dynamic'? Is there an endpoint to retrieve such infomation?"
   ]
  },
  {
   "cell_type": "markdown",
   "id": "f42f2451",
   "metadata": {},
   "source": [
    "Q: what will happen if the custom control input has longer duration than simulation step? e.g., when simulation step = 3600(sec), set oveHeaPumY_activate = 10 (h), i.e., y = requests.post('{0}/advance'.format(url), data={'oveHeaPumY_u':0.5, 'oveHeaPumY_activate': 10}).json()['payload']"
   ]
  }
 ],
 "metadata": {
  "kernelspec": {
   "display_name": "Python 3 (ipykernel)",
   "language": "python",
   "name": "python3"
  },
  "language_info": {
   "codemirror_mode": {
    "name": "ipython",
    "version": 3
   },
   "file_extension": ".py",
   "mimetype": "text/x-python",
   "name": "python",
   "nbconvert_exporter": "python",
   "pygments_lexer": "ipython3",
   "version": "3.10.9"
  }
 },
 "nbformat": 4,
 "nbformat_minor": 5
}
